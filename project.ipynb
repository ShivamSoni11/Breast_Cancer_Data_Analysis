{
  "nbformat": 4,
  "nbformat_minor": 0,
  "metadata": {
    "colab": {
      "name": "project.ipynb",
      "provenance": [],
      "authorship_tag": "ABX9TyMI/k+fX3LMvAoFy7DNC4Oc",
      "include_colab_link": true
    },
    "kernelspec": {
      "name": "python3",
      "display_name": "Python 3"
    }
  },
  "cells": [
    {
      "cell_type": "markdown",
      "metadata": {
        "id": "view-in-github",
        "colab_type": "text"
      },
      "source": [
        "<a href=\"https://colab.research.google.com/github/ShivamSoni11/Breast_Cancer_Data_Analysis/blob/master/project.ipynb\" target=\"_parent\"><img src=\"https://colab.research.google.com/assets/colab-badge.svg\" alt=\"Open In Colab\"/></a>"
      ]
    },
    {
      "cell_type": "code",
      "metadata": {
        "id": "GdoVxVqEU3Yf",
        "colab_type": "code",
        "colab": {
          "base_uri": "https://localhost:8080/",
          "height": 35
        },
        "outputId": "60ec2093-7fc8-46b8-9936-01fca120f2af"
      },
      "source": [
        "from sklearn.model_selection import train_test_split\n",
        "from sklearn import datasets\n",
        "\n",
        "data = datasets.load_breast_cancer()\n",
        "\n",
        "X, y = data.data, data.target\n",
        "print(X.shape)"
      ],
      "execution_count": null,
      "outputs": [
        {
          "output_type": "stream",
          "text": [
            "(569, 30)\n"
          ],
          "name": "stdout"
        }
      ]
    },
    {
      "cell_type": "markdown",
      "metadata": {
        "id": "dUsKJAI2bhwb",
        "colab_type": "text"
      },
      "source": [
        "2. Standardise the data"
      ]
    },
    {
      "cell_type": "code",
      "metadata": {
        "id": "pF9vjBtnbmWD",
        "colab_type": "code",
        "colab": {
          "base_uri": "https://localhost:8080/",
          "height": 35
        },
        "outputId": "504ca793-2a7e-4ce9-9ced-52bde7baa16b"
      },
      "source": [
        "from sklearn.preprocessing import StandardScaler\n",
        "\n",
        "scaler = StandardScaler()\n",
        "X = scaler.fit_transform(X)\n",
        "print(X.shape)"
      ],
      "execution_count": null,
      "outputs": [
        {
          "output_type": "stream",
          "text": [
            "(569, 30)\n"
          ],
          "name": "stdout"
        }
      ]
    },
    {
      "cell_type": "markdown",
      "metadata": {
        "id": "bIdtwySTcm_I",
        "colab_type": "text"
      },
      "source": [
        "Split the data"
      ]
    },
    {
      "cell_type": "code",
      "metadata": {
        "id": "lugLY-XDb8ZD",
        "colab_type": "code",
        "colab": {
          "base_uri": "https://localhost:8080/",
          "height": 35
        },
        "outputId": "1a3e782b-aeb0-4df7-9685-2666ffa0b742"
      },
      "source": [
        "X_train, X_test, y_train, y_test = train_test_split(X, y, test_size=.20, random_state=42)\n",
        "\n",
        "print(X_train.shape, X_test.shape)"
      ],
      "execution_count": null,
      "outputs": [
        {
          "output_type": "stream",
          "text": [
            "(455, 30) (114, 30)\n"
          ],
          "name": "stdout"
        }
      ]
    },
    {
      "cell_type": "markdown",
      "metadata": {
        "id": "0L1UjGLadMhc",
        "colab_type": "text"
      },
      "source": [
        "Creating the neural netwok"
      ]
    },
    {
      "cell_type": "code",
      "metadata": {
        "id": "Bimct5xVb9WE",
        "colab_type": "code",
        "colab": {}
      },
      "source": [
        "from keras.models import Sequential\n",
        "from keras.layers import Dense"
      ],
      "execution_count": null,
      "outputs": []
    },
    {
      "cell_type": "markdown",
      "metadata": {
        "id": "5V9GNAHWdvy_",
        "colab_type": "text"
      },
      "source": [
        "Specifying the type of model"
      ]
    },
    {
      "cell_type": "code",
      "metadata": {
        "id": "Gh3GZ0rJb-Jm",
        "colab_type": "code",
        "colab": {}
      },
      "source": [
        "classifier = Sequential()  #Initializing the ANN"
      ],
      "execution_count": null,
      "outputs": []
    },
    {
      "cell_type": "markdown",
      "metadata": {
        "id": "JHuXKzk0ek-c",
        "colab_type": "text"
      },
      "source": [
        "Adding the layers of Neural Network"
      ]
    },
    {
      "cell_type": "code",
      "metadata": {
        "id": "oysWDeCJepia",
        "colab_type": "code",
        "colab": {}
      },
      "source": [
        "classifier.add(Dense(units=16, activation='relu', input_dim=30))\n",
        "classifier.add(Dense(units=8, activation='relu'))\n",
        "classifier.add(Dense(units=6, activation='relu'))\n",
        "classifier.add(Dense(units=1, activation='sigmoid'))"
      ],
      "execution_count": null,
      "outputs": []
    },
    {
      "cell_type": "markdown",
      "metadata": {
        "id": "PMbRNJjBfOWF",
        "colab_type": "text"
      },
      "source": [
        "Compiling the Neural Network\n"
      ]
    },
    {
      "cell_type": "code",
      "metadata": {
        "id": "tgAiEJqxfO8V",
        "colab_type": "code",
        "colab": {}
      },
      "source": [
        "classifier.compile(optimizer='adam', loss='binary_crossentropy',metrics=['accuracy'])"
      ],
      "execution_count": null,
      "outputs": []
    },
    {
      "cell_type": "code",
      "metadata": {
        "id": "ffqznDHDiUCJ",
        "colab_type": "code",
        "colab": {
          "base_uri": "https://localhost:8080/",
          "height": 308
        },
        "outputId": "4524ed5c-fc02-44e7-e8cf-7a084267eaf5"
      },
      "source": [
        "classifier.summary()"
      ],
      "execution_count": null,
      "outputs": [
        {
          "output_type": "stream",
          "text": [
            "Model: \"sequential\"\n",
            "_________________________________________________________________\n",
            "Layer (type)                 Output Shape              Param #   \n",
            "=================================================================\n",
            "dense (Dense)                (None, 16)                496       \n",
            "_________________________________________________________________\n",
            "dense_1 (Dense)              (None, 8)                 136       \n",
            "_________________________________________________________________\n",
            "dense_2 (Dense)              (None, 6)                 54        \n",
            "_________________________________________________________________\n",
            "dense_3 (Dense)              (None, 1)                 7         \n",
            "=================================================================\n",
            "Total params: 693\n",
            "Trainable params: 693\n",
            "Non-trainable params: 0\n",
            "_________________________________________________________________\n"
          ],
          "name": "stdout"
        }
      ]
    },
    {
      "cell_type": "markdown",
      "metadata": {
        "id": "Pdvg0IbKoysJ",
        "colab_type": "text"
      },
      "source": [
        "Training the Neural Network"
      ]
    },
    {
      "cell_type": "code",
      "metadata": {
        "id": "L9F2wqZ2nDXu",
        "colab_type": "code",
        "colab": {
          "base_uri": "https://localhost:8080/",
          "height": 1000
        },
        "outputId": "2a9c836f-1e18-4676-f26a-afa4a11ef01c"
      },
      "source": [
        "h = classifier.fit(X_train,y_train, batch_size=32, epochs=150, verbose=2, validation_split=.20)"
      ],
      "execution_count": null,
      "outputs": [
        {
          "output_type": "stream",
          "text": [
            "Epoch 1/150\n",
            "12/12 - 0s - loss: 0.6912 - accuracy: 0.5440 - val_loss: 0.6581 - val_accuracy: 0.6484\n",
            "Epoch 2/150\n",
            "12/12 - 0s - loss: 0.6482 - accuracy: 0.6374 - val_loss: 0.6251 - val_accuracy: 0.6484\n",
            "Epoch 3/150\n",
            "12/12 - 0s - loss: 0.6170 - accuracy: 0.6621 - val_loss: 0.5944 - val_accuracy: 0.6593\n",
            "Epoch 4/150\n",
            "12/12 - 0s - loss: 0.5841 - accuracy: 0.6896 - val_loss: 0.5607 - val_accuracy: 0.6813\n",
            "Epoch 5/150\n",
            "12/12 - 0s - loss: 0.5484 - accuracy: 0.7253 - val_loss: 0.5175 - val_accuracy: 0.7363\n",
            "Epoch 6/150\n",
            "12/12 - 0s - loss: 0.5059 - accuracy: 0.7967 - val_loss: 0.4716 - val_accuracy: 0.7802\n",
            "Epoch 7/150\n",
            "12/12 - 0s - loss: 0.4561 - accuracy: 0.8544 - val_loss: 0.4222 - val_accuracy: 0.8242\n",
            "Epoch 8/150\n",
            "12/12 - 0s - loss: 0.4003 - accuracy: 0.8874 - val_loss: 0.3704 - val_accuracy: 0.8462\n",
            "Epoch 9/150\n",
            "12/12 - 0s - loss: 0.3390 - accuracy: 0.9121 - val_loss: 0.3180 - val_accuracy: 0.8462\n",
            "Epoch 10/150\n",
            "12/12 - 0s - loss: 0.2796 - accuracy: 0.9231 - val_loss: 0.2651 - val_accuracy: 0.8681\n",
            "Epoch 11/150\n",
            "12/12 - 0s - loss: 0.2311 - accuracy: 0.9341 - val_loss: 0.2265 - val_accuracy: 0.9231\n",
            "Epoch 12/150\n",
            "12/12 - 0s - loss: 0.1980 - accuracy: 0.9396 - val_loss: 0.2007 - val_accuracy: 0.9231\n",
            "Epoch 13/150\n",
            "12/12 - 0s - loss: 0.1742 - accuracy: 0.9396 - val_loss: 0.1824 - val_accuracy: 0.9341\n",
            "Epoch 14/150\n",
            "12/12 - 0s - loss: 0.1561 - accuracy: 0.9423 - val_loss: 0.1690 - val_accuracy: 0.9341\n",
            "Epoch 15/150\n",
            "12/12 - 0s - loss: 0.1423 - accuracy: 0.9423 - val_loss: 0.1576 - val_accuracy: 0.9341\n",
            "Epoch 16/150\n",
            "12/12 - 0s - loss: 0.1287 - accuracy: 0.9533 - val_loss: 0.1491 - val_accuracy: 0.9451\n",
            "Epoch 17/150\n",
            "12/12 - 0s - loss: 0.1180 - accuracy: 0.9588 - val_loss: 0.1423 - val_accuracy: 0.9560\n",
            "Epoch 18/150\n",
            "12/12 - 0s - loss: 0.1093 - accuracy: 0.9615 - val_loss: 0.1373 - val_accuracy: 0.9560\n",
            "Epoch 19/150\n",
            "12/12 - 0s - loss: 0.1017 - accuracy: 0.9643 - val_loss: 0.1338 - val_accuracy: 0.9560\n",
            "Epoch 20/150\n",
            "12/12 - 0s - loss: 0.0942 - accuracy: 0.9670 - val_loss: 0.1299 - val_accuracy: 0.9560\n",
            "Epoch 21/150\n",
            "12/12 - 0s - loss: 0.0871 - accuracy: 0.9725 - val_loss: 0.1254 - val_accuracy: 0.9560\n",
            "Epoch 22/150\n",
            "12/12 - 0s - loss: 0.0808 - accuracy: 0.9725 - val_loss: 0.1214 - val_accuracy: 0.9670\n",
            "Epoch 23/150\n",
            "12/12 - 0s - loss: 0.0752 - accuracy: 0.9780 - val_loss: 0.1208 - val_accuracy: 0.9670\n",
            "Epoch 24/150\n",
            "12/12 - 0s - loss: 0.0710 - accuracy: 0.9808 - val_loss: 0.1190 - val_accuracy: 0.9670\n",
            "Epoch 25/150\n",
            "12/12 - 0s - loss: 0.0672 - accuracy: 0.9808 - val_loss: 0.1183 - val_accuracy: 0.9670\n",
            "Epoch 26/150\n",
            "12/12 - 0s - loss: 0.0640 - accuracy: 0.9808 - val_loss: 0.1179 - val_accuracy: 0.9670\n",
            "Epoch 27/150\n",
            "12/12 - 0s - loss: 0.0611 - accuracy: 0.9835 - val_loss: 0.1159 - val_accuracy: 0.9670\n",
            "Epoch 28/150\n",
            "12/12 - 0s - loss: 0.0585 - accuracy: 0.9835 - val_loss: 0.1149 - val_accuracy: 0.9670\n",
            "Epoch 29/150\n",
            "12/12 - 0s - loss: 0.0562 - accuracy: 0.9863 - val_loss: 0.1139 - val_accuracy: 0.9670\n",
            "Epoch 30/150\n",
            "12/12 - 0s - loss: 0.0538 - accuracy: 0.9863 - val_loss: 0.1134 - val_accuracy: 0.9670\n",
            "Epoch 31/150\n",
            "12/12 - 0s - loss: 0.0521 - accuracy: 0.9863 - val_loss: 0.1117 - val_accuracy: 0.9670\n",
            "Epoch 32/150\n",
            "12/12 - 0s - loss: 0.0490 - accuracy: 0.9890 - val_loss: 0.1127 - val_accuracy: 0.9670\n",
            "Epoch 33/150\n",
            "12/12 - 0s - loss: 0.0469 - accuracy: 0.9890 - val_loss: 0.1137 - val_accuracy: 0.9670\n",
            "Epoch 34/150\n",
            "12/12 - 0s - loss: 0.0451 - accuracy: 0.9863 - val_loss: 0.1140 - val_accuracy: 0.9670\n",
            "Epoch 35/150\n",
            "12/12 - 0s - loss: 0.0437 - accuracy: 0.9890 - val_loss: 0.1127 - val_accuracy: 0.9670\n",
            "Epoch 36/150\n",
            "12/12 - 0s - loss: 0.0419 - accuracy: 0.9890 - val_loss: 0.1126 - val_accuracy: 0.9670\n",
            "Epoch 37/150\n",
            "12/12 - 0s - loss: 0.0403 - accuracy: 0.9890 - val_loss: 0.1126 - val_accuracy: 0.9670\n",
            "Epoch 38/150\n",
            "12/12 - 0s - loss: 0.0389 - accuracy: 0.9890 - val_loss: 0.1133 - val_accuracy: 0.9670\n",
            "Epoch 39/150\n",
            "12/12 - 0s - loss: 0.0369 - accuracy: 0.9890 - val_loss: 0.1124 - val_accuracy: 0.9670\n",
            "Epoch 40/150\n",
            "12/12 - 0s - loss: 0.0352 - accuracy: 0.9918 - val_loss: 0.1114 - val_accuracy: 0.9670\n",
            "Epoch 41/150\n",
            "12/12 - 0s - loss: 0.0331 - accuracy: 0.9945 - val_loss: 0.1141 - val_accuracy: 0.9670\n",
            "Epoch 42/150\n",
            "12/12 - 0s - loss: 0.0321 - accuracy: 0.9945 - val_loss: 0.1131 - val_accuracy: 0.9670\n",
            "Epoch 43/150\n",
            "12/12 - 0s - loss: 0.0304 - accuracy: 0.9945 - val_loss: 0.1140 - val_accuracy: 0.9670\n",
            "Epoch 44/150\n",
            "12/12 - 0s - loss: 0.0291 - accuracy: 0.9945 - val_loss: 0.1140 - val_accuracy: 0.9670\n",
            "Epoch 45/150\n",
            "12/12 - 0s - loss: 0.0278 - accuracy: 0.9945 - val_loss: 0.1131 - val_accuracy: 0.9670\n",
            "Epoch 46/150\n",
            "12/12 - 0s - loss: 0.0275 - accuracy: 0.9945 - val_loss: 0.1132 - val_accuracy: 0.9670\n",
            "Epoch 47/150\n",
            "12/12 - 0s - loss: 0.0262 - accuracy: 0.9945 - val_loss: 0.1112 - val_accuracy: 0.9670\n",
            "Epoch 48/150\n",
            "12/12 - 0s - loss: 0.0253 - accuracy: 0.9945 - val_loss: 0.1112 - val_accuracy: 0.9670\n",
            "Epoch 49/150\n",
            "12/12 - 0s - loss: 0.0246 - accuracy: 0.9945 - val_loss: 0.1112 - val_accuracy: 0.9670\n",
            "Epoch 50/150\n",
            "12/12 - 0s - loss: 0.0238 - accuracy: 0.9945 - val_loss: 0.1112 - val_accuracy: 0.9670\n",
            "Epoch 51/150\n",
            "12/12 - 0s - loss: 0.0234 - accuracy: 0.9945 - val_loss: 0.1100 - val_accuracy: 0.9560\n",
            "Epoch 52/150\n",
            "12/12 - 0s - loss: 0.0225 - accuracy: 0.9945 - val_loss: 0.1109 - val_accuracy: 0.9560\n",
            "Epoch 53/150\n",
            "12/12 - 0s - loss: 0.0215 - accuracy: 0.9945 - val_loss: 0.1094 - val_accuracy: 0.9560\n",
            "Epoch 54/150\n",
            "12/12 - 0s - loss: 0.0207 - accuracy: 0.9945 - val_loss: 0.1101 - val_accuracy: 0.9560\n",
            "Epoch 55/150\n",
            "12/12 - 0s - loss: 0.0198 - accuracy: 0.9945 - val_loss: 0.1100 - val_accuracy: 0.9560\n",
            "Epoch 56/150\n",
            "12/12 - 0s - loss: 0.0190 - accuracy: 0.9945 - val_loss: 0.1106 - val_accuracy: 0.9451\n",
            "Epoch 57/150\n",
            "12/12 - 0s - loss: 0.0183 - accuracy: 0.9973 - val_loss: 0.1106 - val_accuracy: 0.9451\n",
            "Epoch 58/150\n",
            "12/12 - 0s - loss: 0.0176 - accuracy: 0.9973 - val_loss: 0.1096 - val_accuracy: 0.9451\n",
            "Epoch 59/150\n",
            "12/12 - 0s - loss: 0.0174 - accuracy: 0.9973 - val_loss: 0.1103 - val_accuracy: 0.9451\n",
            "Epoch 60/150\n",
            "12/12 - 0s - loss: 0.0166 - accuracy: 0.9973 - val_loss: 0.1109 - val_accuracy: 0.9451\n",
            "Epoch 61/150\n",
            "12/12 - 0s - loss: 0.0161 - accuracy: 0.9973 - val_loss: 0.1101 - val_accuracy: 0.9451\n",
            "Epoch 62/150\n",
            "12/12 - 0s - loss: 0.0154 - accuracy: 0.9973 - val_loss: 0.1109 - val_accuracy: 0.9451\n",
            "Epoch 63/150\n",
            "12/12 - 0s - loss: 0.0149 - accuracy: 0.9973 - val_loss: 0.1114 - val_accuracy: 0.9341\n",
            "Epoch 64/150\n",
            "12/12 - 0s - loss: 0.0144 - accuracy: 0.9973 - val_loss: 0.1115 - val_accuracy: 0.9341\n",
            "Epoch 65/150\n",
            "12/12 - 0s - loss: 0.0140 - accuracy: 0.9973 - val_loss: 0.1125 - val_accuracy: 0.9341\n",
            "Epoch 66/150\n",
            "12/12 - 0s - loss: 0.0136 - accuracy: 0.9973 - val_loss: 0.1129 - val_accuracy: 0.9341\n",
            "Epoch 67/150\n",
            "12/12 - 0s - loss: 0.0132 - accuracy: 0.9973 - val_loss: 0.1140 - val_accuracy: 0.9341\n",
            "Epoch 68/150\n",
            "12/12 - 0s - loss: 0.0128 - accuracy: 0.9973 - val_loss: 0.1144 - val_accuracy: 0.9341\n",
            "Epoch 69/150\n",
            "12/12 - 0s - loss: 0.0126 - accuracy: 0.9973 - val_loss: 0.1145 - val_accuracy: 0.9341\n",
            "Epoch 70/150\n",
            "12/12 - 0s - loss: 0.0123 - accuracy: 0.9973 - val_loss: 0.1145 - val_accuracy: 0.9341\n",
            "Epoch 71/150\n",
            "12/12 - 0s - loss: 0.0119 - accuracy: 0.9973 - val_loss: 0.1161 - val_accuracy: 0.9341\n",
            "Epoch 72/150\n",
            "12/12 - 0s - loss: 0.0116 - accuracy: 0.9973 - val_loss: 0.1166 - val_accuracy: 0.9341\n",
            "Epoch 73/150\n",
            "12/12 - 0s - loss: 0.0113 - accuracy: 0.9973 - val_loss: 0.1167 - val_accuracy: 0.9341\n",
            "Epoch 74/150\n",
            "12/12 - 0s - loss: 0.0110 - accuracy: 0.9973 - val_loss: 0.1188 - val_accuracy: 0.9231\n",
            "Epoch 75/150\n",
            "12/12 - 0s - loss: 0.0106 - accuracy: 0.9973 - val_loss: 0.1174 - val_accuracy: 0.9451\n",
            "Epoch 76/150\n",
            "12/12 - 0s - loss: 0.0104 - accuracy: 0.9973 - val_loss: 0.1181 - val_accuracy: 0.9451\n",
            "Epoch 77/150\n",
            "12/12 - 0s - loss: 0.0098 - accuracy: 0.9973 - val_loss: 0.1189 - val_accuracy: 0.9341\n",
            "Epoch 78/150\n",
            "12/12 - 0s - loss: 0.0097 - accuracy: 0.9973 - val_loss: 0.1210 - val_accuracy: 0.9341\n",
            "Epoch 79/150\n",
            "12/12 - 0s - loss: 0.0085 - accuracy: 0.9973 - val_loss: 0.1223 - val_accuracy: 0.9341\n",
            "Epoch 80/150\n",
            "12/12 - 0s - loss: 0.0080 - accuracy: 0.9973 - val_loss: 0.1223 - val_accuracy: 0.9451\n",
            "Epoch 81/150\n",
            "12/12 - 0s - loss: 0.0074 - accuracy: 0.9973 - val_loss: 0.1221 - val_accuracy: 0.9451\n",
            "Epoch 82/150\n",
            "12/12 - 0s - loss: 0.0069 - accuracy: 0.9973 - val_loss: 0.1234 - val_accuracy: 0.9451\n",
            "Epoch 83/150\n",
            "12/12 - 0s - loss: 0.0065 - accuracy: 1.0000 - val_loss: 0.1235 - val_accuracy: 0.9451\n",
            "Epoch 84/150\n",
            "12/12 - 0s - loss: 0.0059 - accuracy: 1.0000 - val_loss: 0.1259 - val_accuracy: 0.9341\n",
            "Epoch 85/150\n",
            "12/12 - 0s - loss: 0.0057 - accuracy: 1.0000 - val_loss: 0.1266 - val_accuracy: 0.9451\n",
            "Epoch 86/150\n",
            "12/12 - 0s - loss: 0.0053 - accuracy: 1.0000 - val_loss: 0.1274 - val_accuracy: 0.9451\n",
            "Epoch 87/150\n",
            "12/12 - 0s - loss: 0.0050 - accuracy: 1.0000 - val_loss: 0.1277 - val_accuracy: 0.9451\n",
            "Epoch 88/150\n",
            "12/12 - 0s - loss: 0.0048 - accuracy: 1.0000 - val_loss: 0.1290 - val_accuracy: 0.9341\n",
            "Epoch 89/150\n",
            "12/12 - 0s - loss: 0.0046 - accuracy: 1.0000 - val_loss: 0.1311 - val_accuracy: 0.9341\n",
            "Epoch 90/150\n",
            "12/12 - 0s - loss: 0.0043 - accuracy: 1.0000 - val_loss: 0.1304 - val_accuracy: 0.9341\n",
            "Epoch 91/150\n",
            "12/12 - 0s - loss: 0.0042 - accuracy: 1.0000 - val_loss: 0.1293 - val_accuracy: 0.9341\n",
            "Epoch 92/150\n",
            "12/12 - 0s - loss: 0.0040 - accuracy: 1.0000 - val_loss: 0.1311 - val_accuracy: 0.9341\n",
            "Epoch 93/150\n",
            "12/12 - 0s - loss: 0.0039 - accuracy: 1.0000 - val_loss: 0.1342 - val_accuracy: 0.9341\n",
            "Epoch 94/150\n",
            "12/12 - 0s - loss: 0.0037 - accuracy: 1.0000 - val_loss: 0.1324 - val_accuracy: 0.9341\n",
            "Epoch 95/150\n",
            "12/12 - 0s - loss: 0.0035 - accuracy: 1.0000 - val_loss: 0.1337 - val_accuracy: 0.9341\n",
            "Epoch 96/150\n",
            "12/12 - 0s - loss: 0.0035 - accuracy: 1.0000 - val_loss: 0.1349 - val_accuracy: 0.9341\n",
            "Epoch 97/150\n",
            "12/12 - 0s - loss: 0.0035 - accuracy: 1.0000 - val_loss: 0.1343 - val_accuracy: 0.9341\n",
            "Epoch 98/150\n",
            "12/12 - 0s - loss: 0.0032 - accuracy: 1.0000 - val_loss: 0.1374 - val_accuracy: 0.9341\n",
            "Epoch 99/150\n",
            "12/12 - 0s - loss: 0.0031 - accuracy: 1.0000 - val_loss: 0.1400 - val_accuracy: 0.9341\n",
            "Epoch 100/150\n",
            "12/12 - 0s - loss: 0.0030 - accuracy: 1.0000 - val_loss: 0.1405 - val_accuracy: 0.9341\n",
            "Epoch 101/150\n",
            "12/12 - 0s - loss: 0.0029 - accuracy: 1.0000 - val_loss: 0.1401 - val_accuracy: 0.9341\n",
            "Epoch 102/150\n",
            "12/12 - 0s - loss: 0.0028 - accuracy: 1.0000 - val_loss: 0.1408 - val_accuracy: 0.9341\n",
            "Epoch 103/150\n",
            "12/12 - 0s - loss: 0.0027 - accuracy: 1.0000 - val_loss: 0.1412 - val_accuracy: 0.9341\n",
            "Epoch 104/150\n",
            "12/12 - 0s - loss: 0.0026 - accuracy: 1.0000 - val_loss: 0.1432 - val_accuracy: 0.9341\n",
            "Epoch 105/150\n",
            "12/12 - 0s - loss: 0.0025 - accuracy: 1.0000 - val_loss: 0.1467 - val_accuracy: 0.9341\n",
            "Epoch 106/150\n",
            "12/12 - 0s - loss: 0.0025 - accuracy: 1.0000 - val_loss: 0.1477 - val_accuracy: 0.9341\n",
            "Epoch 107/150\n",
            "12/12 - 0s - loss: 0.0023 - accuracy: 1.0000 - val_loss: 0.1449 - val_accuracy: 0.9341\n",
            "Epoch 108/150\n",
            "12/12 - 0s - loss: 0.0023 - accuracy: 1.0000 - val_loss: 0.1442 - val_accuracy: 0.9341\n",
            "Epoch 109/150\n",
            "12/12 - 0s - loss: 0.0022 - accuracy: 1.0000 - val_loss: 0.1462 - val_accuracy: 0.9341\n",
            "Epoch 110/150\n",
            "12/12 - 0s - loss: 0.0021 - accuracy: 1.0000 - val_loss: 0.1476 - val_accuracy: 0.9341\n",
            "Epoch 111/150\n",
            "12/12 - 0s - loss: 0.0020 - accuracy: 1.0000 - val_loss: 0.1473 - val_accuracy: 0.9341\n",
            "Epoch 112/150\n",
            "12/12 - 0s - loss: 0.0020 - accuracy: 1.0000 - val_loss: 0.1480 - val_accuracy: 0.9341\n",
            "Epoch 113/150\n",
            "12/12 - 0s - loss: 0.0019 - accuracy: 1.0000 - val_loss: 0.1521 - val_accuracy: 0.9341\n",
            "Epoch 114/150\n",
            "12/12 - 0s - loss: 0.0019 - accuracy: 1.0000 - val_loss: 0.1546 - val_accuracy: 0.9341\n",
            "Epoch 115/150\n",
            "12/12 - 0s - loss: 0.0018 - accuracy: 1.0000 - val_loss: 0.1537 - val_accuracy: 0.9341\n",
            "Epoch 116/150\n",
            "12/12 - 0s - loss: 0.0018 - accuracy: 1.0000 - val_loss: 0.1540 - val_accuracy: 0.9341\n",
            "Epoch 117/150\n",
            "12/12 - 0s - loss: 0.0017 - accuracy: 1.0000 - val_loss: 0.1545 - val_accuracy: 0.9341\n",
            "Epoch 118/150\n",
            "12/12 - 0s - loss: 0.0017 - accuracy: 1.0000 - val_loss: 0.1538 - val_accuracy: 0.9341\n",
            "Epoch 119/150\n",
            "12/12 - 0s - loss: 0.0016 - accuracy: 1.0000 - val_loss: 0.1556 - val_accuracy: 0.9341\n",
            "Epoch 120/150\n",
            "12/12 - 0s - loss: 0.0016 - accuracy: 1.0000 - val_loss: 0.1551 - val_accuracy: 0.9341\n",
            "Epoch 121/150\n",
            "12/12 - 0s - loss: 0.0015 - accuracy: 1.0000 - val_loss: 0.1581 - val_accuracy: 0.9341\n",
            "Epoch 122/150\n",
            "12/12 - 0s - loss: 0.0015 - accuracy: 1.0000 - val_loss: 0.1577 - val_accuracy: 0.9341\n",
            "Epoch 123/150\n",
            "12/12 - 0s - loss: 0.0014 - accuracy: 1.0000 - val_loss: 0.1588 - val_accuracy: 0.9341\n",
            "Epoch 124/150\n",
            "12/12 - 0s - loss: 0.0014 - accuracy: 1.0000 - val_loss: 0.1603 - val_accuracy: 0.9341\n",
            "Epoch 125/150\n",
            "12/12 - 0s - loss: 0.0014 - accuracy: 1.0000 - val_loss: 0.1612 - val_accuracy: 0.9341\n",
            "Epoch 126/150\n",
            "12/12 - 0s - loss: 0.0014 - accuracy: 1.0000 - val_loss: 0.1648 - val_accuracy: 0.9341\n",
            "Epoch 127/150\n",
            "12/12 - 0s - loss: 0.0013 - accuracy: 1.0000 - val_loss: 0.1664 - val_accuracy: 0.9341\n",
            "Epoch 128/150\n",
            "12/12 - 0s - loss: 0.0013 - accuracy: 1.0000 - val_loss: 0.1669 - val_accuracy: 0.9341\n",
            "Epoch 129/150\n",
            "12/12 - 0s - loss: 0.0012 - accuracy: 1.0000 - val_loss: 0.1649 - val_accuracy: 0.9341\n",
            "Epoch 130/150\n",
            "12/12 - 0s - loss: 0.0012 - accuracy: 1.0000 - val_loss: 0.1650 - val_accuracy: 0.9341\n",
            "Epoch 131/150\n",
            "12/12 - 0s - loss: 0.0012 - accuracy: 1.0000 - val_loss: 0.1669 - val_accuracy: 0.9341\n",
            "Epoch 132/150\n",
            "12/12 - 0s - loss: 0.0011 - accuracy: 1.0000 - val_loss: 0.1677 - val_accuracy: 0.9341\n",
            "Epoch 133/150\n",
            "12/12 - 0s - loss: 0.0011 - accuracy: 1.0000 - val_loss: 0.1680 - val_accuracy: 0.9341\n",
            "Epoch 134/150\n",
            "12/12 - 0s - loss: 0.0011 - accuracy: 1.0000 - val_loss: 0.1689 - val_accuracy: 0.9341\n",
            "Epoch 135/150\n",
            "12/12 - 0s - loss: 0.0011 - accuracy: 1.0000 - val_loss: 0.1689 - val_accuracy: 0.9341\n",
            "Epoch 136/150\n",
            "12/12 - 0s - loss: 0.0011 - accuracy: 1.0000 - val_loss: 0.1736 - val_accuracy: 0.9451\n",
            "Epoch 137/150\n",
            "12/12 - 0s - loss: 0.0010 - accuracy: 1.0000 - val_loss: 0.1716 - val_accuracy: 0.9341\n",
            "Epoch 138/150\n",
            "12/12 - 0s - loss: 9.9531e-04 - accuracy: 1.0000 - val_loss: 0.1708 - val_accuracy: 0.9341\n",
            "Epoch 139/150\n",
            "12/12 - 0s - loss: 9.6977e-04 - accuracy: 1.0000 - val_loss: 0.1713 - val_accuracy: 0.9341\n",
            "Epoch 140/150\n",
            "12/12 - 0s - loss: 9.4724e-04 - accuracy: 1.0000 - val_loss: 0.1717 - val_accuracy: 0.9341\n",
            "Epoch 141/150\n",
            "12/12 - 0s - loss: 9.1660e-04 - accuracy: 1.0000 - val_loss: 0.1716 - val_accuracy: 0.9341\n",
            "Epoch 142/150\n",
            "12/12 - 0s - loss: 9.0648e-04 - accuracy: 1.0000 - val_loss: 0.1733 - val_accuracy: 0.9341\n",
            "Epoch 143/150\n",
            "12/12 - 0s - loss: 8.9663e-04 - accuracy: 1.0000 - val_loss: 0.1744 - val_accuracy: 0.9341\n",
            "Epoch 144/150\n",
            "12/12 - 0s - loss: 8.7046e-04 - accuracy: 1.0000 - val_loss: 0.1753 - val_accuracy: 0.9341\n",
            "Epoch 145/150\n",
            "12/12 - 0s - loss: 8.4188e-04 - accuracy: 1.0000 - val_loss: 0.1763 - val_accuracy: 0.9341\n",
            "Epoch 146/150\n",
            "12/12 - 0s - loss: 8.3451e-04 - accuracy: 1.0000 - val_loss: 0.1763 - val_accuracy: 0.9341\n",
            "Epoch 147/150\n",
            "12/12 - 0s - loss: 8.0373e-04 - accuracy: 1.0000 - val_loss: 0.1783 - val_accuracy: 0.9341\n",
            "Epoch 148/150\n",
            "12/12 - 0s - loss: 8.2568e-04 - accuracy: 1.0000 - val_loss: 0.1799 - val_accuracy: 0.9341\n",
            "Epoch 149/150\n",
            "12/12 - 0s - loss: 7.6516e-04 - accuracy: 1.0000 - val_loss: 0.1784 - val_accuracy: 0.9341\n",
            "Epoch 150/150\n",
            "12/12 - 0s - loss: 7.7890e-04 - accuracy: 1.0000 - val_loss: 0.1779 - val_accuracy: 0.9341\n"
          ],
          "name": "stdout"
        }
      ]
    },
    {
      "cell_type": "code",
      "metadata": {
        "id": "r4JffnQKnFdt",
        "colab_type": "code",
        "colab": {}
      },
      "source": [
        "import matplotlib.pyplot as plt"
      ],
      "execution_count": null,
      "outputs": []
    },
    {
      "cell_type": "code",
      "metadata": {
        "id": "0gUjE2KQnFlY",
        "colab_type": "code",
        "colab": {
          "base_uri": "https://localhost:8080/",
          "height": 479
        },
        "outputId": "2f687244-be7d-4157-db9e-182129913b8c"
      },
      "source": [
        "plt.figure(figsize=(16,6))\n",
        "\n",
        "plt.subplot(1,2,1)\n",
        "plt.plot(range(1,151),h.history['loss'], c='b', label='Training Loss')\n",
        "plt.plot(range(1,151),h.history['val_loss'], c='g', label='Validation Loss')\n",
        "plt.legend()\n",
        "plt.title('Loss')\n",
        "plt.xlabel('Epochs')\n",
        "plt.ylabel('Loss')\n",
        "\n",
        "plt.subplot(1,2,1)\n",
        "plt.plot(range(1,151),h.history['accuracy'], c='b', label='Training accuracy')\n",
        "plt.plot(range(1,151),h.history['val_accuracy'], c='g', label='Validation accuracy')\n",
        "plt.legend()\n",
        "plt.title('Accuracy')\n",
        "plt.xlabel('Epochs')\n",
        "plt.ylabel('Accuracy')"
      ],
      "execution_count": null,
      "outputs": [
        {
          "output_type": "stream",
          "text": [
            "/usr/local/lib/python3.6/dist-packages/ipykernel_launcher.py:11: MatplotlibDeprecationWarning: Adding an axes using the same arguments as a previous axes currently reuses the earlier instance.  In a future version, a new instance will always be created and returned.  Meanwhile, this warning can be suppressed, and the future behavior ensured, by passing a unique label to each axes instance.\n",
            "  # This is added back by InteractiveShellApp.init_path()\n"
          ],
          "name": "stderr"
        },
        {
          "output_type": "execute_result",
          "data": {
            "text/plain": [
              "Text(0, 0.5, 'Accuracy')"
            ]
          },
          "metadata": {
            "tags": []
          },
          "execution_count": 11
        },
        {
          "output_type": "display_data",
          "data": {
            "image/png": "[encoded data removed]",
            "text/plain": [
              "<Figure size 1152x432 with 1 Axes>"
            ]
          },
          "metadata": {
            "tags": [],
            "needs_background": "light"
          }
        }
      ]
    },
    {
      "cell_type": "markdown",
      "metadata": {
        "id": "S7e2l_3z2arm",
        "colab_type": "text"
      },
      "source": [
        "Make Prediction"
      ]
    },
    {
      "cell_type": "code",
      "metadata": {
        "id": "J8F667grnFtI",
        "colab_type": "code",
        "colab": {}
      },
      "source": [
        "Y_pred = classifier.predict(X_test)"
      ],
      "execution_count": null,
      "outputs": []
    },
    {
      "cell_type": "code",
      "metadata": {
        "id": "xW5OPRCTnFzu",
        "colab_type": "code",
        "colab": {}
      },
      "source": [
        "Y_pred = [ 1 if y >= .5 else 0 for y in Y_pred]"
      ],
      "execution_count": null,
      "outputs": []
    },
    {
      "cell_type": "code",
      "metadata": {
        "id": "LZ4IA__1nF4d",
        "colab_type": "code",
        "colab": {
          "base_uri": "https://localhost:8080/",
          "height": 72
        },
        "outputId": "3bd65ea1-53fe-41eb-e253-d5450e2c160c"
      },
      "source": [
        "total = 0\n",
        "correct = 0\n",
        "wrong = 0\n",
        "for i in range(len(Y_pred)):\n",
        "    total += 1\n",
        "    if (y_test[i]==Y_pred[i]):\n",
        "        correct += 1\n",
        "    else:\n",
        "        wrong += 1\n",
        "print(\"Total : \", total)\n",
        "print(\"Correct : \",correct)\n",
        "print(\"Wrong : \",wrong)\n"
      ],
      "execution_count": null,
      "outputs": [
        {
          "output_type": "stream",
          "text": [
            "Total :  114\n",
            "Correct :  111\n",
            "Wrong :  3\n"
          ],
          "name": "stdout"
        }
      ]
    },
    {
      "cell_type": "code",
      "metadata": {
        "id": "AiSwtWHHnGA9",
        "colab_type": "code",
        "colab": {}
      },
      "source": [
        "from sklearn.metrics import confusion_matrix"
      ],
      "execution_count": null,
      "outputs": []
    },
    {
      "cell_type": "code",
      "metadata": {
        "id": "SyHIv0N57E_t",
        "colab_type": "code",
        "colab": {
          "base_uri": "https://localhost:8080/",
          "height": 73
        },
        "outputId": "82ed9360-eaed-4656-a575-a59581f2f93a"
      },
      "source": [
        "import seaborn as sns"
      ],
      "execution_count": null,
      "outputs": [
        {
          "output_type": "stream",
          "text": [
            "/usr/local/lib/python3.6/dist-packages/statsmodels/tools/_testing.py:19: FutureWarning: pandas.util.testing is deprecated. Use the functions in the public API at pandas.testing instead.\n",
            "  import pandas.util.testing as tm\n"
          ],
          "name": "stderr"
        }
      ]
    },
    {
      "cell_type": "code",
      "metadata": {
        "id": "76nHC5jF7KBt",
        "colab_type": "code",
        "colab": {
          "base_uri": "https://localhost:8080/",
          "height": 301
        },
        "outputId": "2164e08d-7b8d-4634-bc64-ae25c6d24517"
      },
      "source": [
        "matrix_report = confusion_matrix(y_test, Y_pred)\n",
        "sns.heatmap(matrix_report, annot=True, cmap='Blues')\n",
        "plt.xlabel('Prediction Output')\n",
        "plt.ylabel('Orignal Output')"
      ],
      "execution_count": null,
      "outputs": [
        {
          "output_type": "execute_result",
          "data": {
            "text/plain": [
              "Text(33.0, 0.5, 'Orignal Output')"
            ]
          },
          "metadata": {
            "tags": []
          },
          "execution_count": 17
        },
        {
          "output_type": "display_data",
          "data": {
            "image/png": "[encoded data removed]",
            "text/plain": [
              "<Figure size 432x288 with 2 Axes>"
            ]
          },
          "metadata": {
            "tags": [],
            "needs_background": "light"
          }
        }
      ]
    },
    {
      "cell_type": "markdown",
      "metadata": {
        "id": "_0eGbVxH7T2x",
        "colab_type": "text"
      },
      "source": [
        "Accuracy & Precision"
      ]
    },
    {
      "cell_type": "code",
      "metadata": {
        "id": "-twP2v9X7Q74",
        "colab_type": "code",
        "colab": {
          "base_uri": "https://localhost:8080/",
          "height": 53
        },
        "outputId": "e7575930-cb62-4164-edba-d9f5c8b73c93"
      },
      "source": [
        "from sklearn.metrics import recall_score, accuracy_score\n",
        "\n",
        "accuracy = accuracy_score(y_test, Y_pred)\n",
        "recall = recall_score(y_test, Y_pred)\n",
        "\n",
        "print(\"Accuracy of Neural Network     = \", accuracy)\n",
        "print(\"Recall Value of Neural Network = \",recall)"
      ],
      "execution_count": null,
      "outputs": [
        {
          "output_type": "stream",
          "text": [
            "Accuracy of Neural Network     =  0.9736842105263158\n",
            "Recall Value of Neural Network =  0.9859154929577465\n"
          ],
          "name": "stdout"
        }
      ]
    },
    {
      "cell_type": "code",
      "metadata": {
        "id": "x5euyjEH7Rjf",
        "colab_type": "code",
        "colab": {}
      },
      "source": [
        ""
      ],
      "execution_count": null,
      "outputs": []
    }
  ]
}